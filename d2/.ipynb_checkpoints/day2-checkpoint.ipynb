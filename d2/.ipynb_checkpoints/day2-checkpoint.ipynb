{
 "cells": [
  {
   "cell_type": "code",
   "execution_count": 27,
   "metadata": {},
   "outputs": [],
   "source": [
    "import pandas"
   ]
  },
  {
   "cell_type": "code",
   "execution_count": 28,
   "metadata": {},
   "outputs": [],
   "source": [
    "text_file = open(\"input.txt\", \"r\")\n",
    "lines = text_file.read().split(',')\n",
    "\n",
    "lines = [int(i) for i in lines]"
   ]
  },
  {
   "cell_type": "code",
   "execution_count": 29,
   "metadata": {
    "scrolled": true
   },
   "outputs": [
    {
     "data": {
      "text/plain": [
       "[1,\n",
       " 0,\n",
       " 0,\n",
       " 3,\n",
       " 1,\n",
       " 1,\n",
       " 2,\n",
       " 3,\n",
       " 1,\n",
       " 3,\n",
       " 4,\n",
       " 3,\n",
       " 1,\n",
       " 5,\n",
       " 0,\n",
       " 3,\n",
       " 2,\n",
       " 10,\n",
       " 1,\n",
       " 19,\n",
       " 1,\n",
       " 19,\n",
       " 9,\n",
       " 23,\n",
       " 1,\n",
       " 23,\n",
       " 13,\n",
       " 27,\n",
       " 1,\n",
       " 10,\n",
       " 27,\n",
       " 31,\n",
       " 2,\n",
       " 31,\n",
       " 13,\n",
       " 35,\n",
       " 1,\n",
       " 10,\n",
       " 35,\n",
       " 39,\n",
       " 2,\n",
       " 9,\n",
       " 39,\n",
       " 43,\n",
       " 2,\n",
       " 43,\n",
       " 9,\n",
       " 47,\n",
       " 1,\n",
       " 6,\n",
       " 47,\n",
       " 51,\n",
       " 1,\n",
       " 10,\n",
       " 51,\n",
       " 55,\n",
       " 2,\n",
       " 55,\n",
       " 13,\n",
       " 59,\n",
       " 1,\n",
       " 59,\n",
       " 10,\n",
       " 63,\n",
       " 2,\n",
       " 63,\n",
       " 13,\n",
       " 67,\n",
       " 2,\n",
       " 67,\n",
       " 9,\n",
       " 71,\n",
       " 1,\n",
       " 6,\n",
       " 71,\n",
       " 75,\n",
       " 2,\n",
       " 75,\n",
       " 9,\n",
       " 79,\n",
       " 1,\n",
       " 79,\n",
       " 5,\n",
       " 83,\n",
       " 2,\n",
       " 83,\n",
       " 13,\n",
       " 87,\n",
       " 1,\n",
       " 9,\n",
       " 87,\n",
       " 91,\n",
       " 1,\n",
       " 13,\n",
       " 91,\n",
       " 95,\n",
       " 1,\n",
       " 2,\n",
       " 95,\n",
       " 99,\n",
       " 1,\n",
       " 99,\n",
       " 6,\n",
       " 0,\n",
       " 99,\n",
       " 2,\n",
       " 14,\n",
       " 0,\n",
       " 0]"
      ]
     },
     "execution_count": 29,
     "metadata": {},
     "output_type": "execute_result"
    }
   ],
   "source": [
    "lines"
   ]
  },
  {
   "cell_type": "code",
   "execution_count": 30,
   "metadata": {},
   "outputs": [],
   "source": [
    "a1 = []\n",
    "while len(lines) != 0:\n",
    "    a2 = []\n",
    "    if lines[0] != 99:\n",
    "        for i in range(4):\n",
    "            a2.append(lines.pop(0))\n",
    "    else:\n",
    "        lines.pop(0)\n",
    "    a1.append(a2)\n",
    "    "
   ]
  },
  {
   "cell_type": "code",
   "execution_count": 31,
   "metadata": {},
   "outputs": [
    {
     "data": {
      "text/plain": [
       "[[1, 0, 0, 3],\n",
       " [1, 1, 2, 3],\n",
       " [1, 3, 4, 3],\n",
       " [1, 5, 0, 3],\n",
       " [2, 10, 1, 19],\n",
       " [1, 19, 9, 23],\n",
       " [1, 23, 13, 27],\n",
       " [1, 10, 27, 31],\n",
       " [2, 31, 13, 35],\n",
       " [1, 10, 35, 39],\n",
       " [2, 9, 39, 43],\n",
       " [2, 43, 9, 47],\n",
       " [1, 6, 47, 51],\n",
       " [1, 10, 51, 55],\n",
       " [2, 55, 13, 59],\n",
       " [1, 59, 10, 63],\n",
       " [2, 63, 13, 67],\n",
       " [2, 67, 9, 71],\n",
       " [1, 6, 71, 75],\n",
       " [2, 75, 9, 79],\n",
       " [1, 79, 5, 83],\n",
       " [2, 83, 13, 87],\n",
       " [1, 9, 87, 91],\n",
       " [1, 13, 91, 95],\n",
       " [1, 2, 95, 99],\n",
       " [1, 99, 6, 0],\n",
       " [],\n",
       " [2, 14, 0, 0]]"
      ]
     },
     "execution_count": 31,
     "metadata": {},
     "output_type": "execute_result"
    }
   ],
   "source": [
    "a1"
   ]
  },
  {
   "cell_type": "code",
   "execution_count": 33,
   "metadata": {},
   "outputs": [
    {
     "name": "stdout",
     "output_type": "stream",
     "text": [
      "[1, 0, 0, 3]\n",
      "[1, 1, 2, 3]\n",
      "[1, 3, 4, 3]\n",
      "[1, 5, 0, 3]\n",
      "[2, 10, 1, 19]\n",
      "[1, 19, 9, 23]\n",
      "[1, 23, 13, 27]\n",
      "[1, 10, 27, 31]\n",
      "[2, 31, 13, 35]\n",
      "[1, 10, 35, 39]\n",
      "[2, 9, 39, 43]\n",
      "[2, 43, 9, 47]\n",
      "[1, 6, 47, 51]\n",
      "[1, 10, 51, 55]\n",
      "[2, 55, 13, 59]\n",
      "[1, 59, 10, 63]\n",
      "[2, 63, 13, 67]\n",
      "[2, 67, 9, 71]\n",
      "[1, 6, 71, 75]\n",
      "[2, 75, 9, 79]\n",
      "[1, 79, 5, 83]\n",
      "[2, 83, 13, 87]\n",
      "[1, 9, 87, 91]\n",
      "[1, 13, 91, 95]\n",
      "[1, 2, 95, 99]\n",
      "[1, 99, 6, 0]\n",
      "[]\n",
      "[2, 14, 0, 0]\n"
     ]
    }
   ],
   "source": [
    "for i, arr in enumerate(a1):\n",
    "    print(arr)"
   ]
  }
 ],
 "metadata": {
  "kernelspec": {
   "display_name": "Python 3",
   "language": "python",
   "name": "python3"
  },
  "language_info": {
   "codemirror_mode": {
    "name": "ipython",
    "version": 3
   },
   "file_extension": ".py",
   "mimetype": "text/x-python",
   "name": "python",
   "nbconvert_exporter": "python",
   "pygments_lexer": "ipython3",
   "version": "3.6.8"
  }
 },
 "nbformat": 4,
 "nbformat_minor": 2
}
