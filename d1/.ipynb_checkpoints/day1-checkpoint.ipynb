{
 "cells": [
  {
   "cell_type": "code",
   "execution_count": 4,
   "metadata": {},
   "outputs": [],
   "source": [
    "import numpy as np"
   ]
  },
  {
   "cell_type": "code",
   "execution_count": 2,
   "metadata": {},
   "outputs": [],
   "source": [
    "text_file = open(\"input.txt\", \"r\")\n",
    "lines = text_file.read().split('\\n')\n",
    "\n",
    "lines = [int(i) for i in lines]"
   ]
  },
  {
   "cell_type": "code",
   "execution_count": 3,
   "metadata": {},
   "outputs": [],
   "source": [
    "for index, line in enumerate(lines):\n",
    "    lines[index] = np.floor(line/3) - 2"
   ]
  },
  {
   "cell_type": "code",
   "execution_count": 4,
   "metadata": {},
   "outputs": [
    {
     "data": {
      "text/plain": [
       "3152919.0"
      ]
     },
     "execution_count": 4,
     "metadata": {},
     "output_type": "execute_result"
    }
   ],
   "source": [
    "sum(lines)"
   ]
  },
  {
   "cell_type": "markdown",
   "metadata": {},
   "source": [
    "--------------------- "
   ]
  },
  {
   "cell_type": "code",
   "execution_count": 32,
   "metadata": {},
   "outputs": [],
   "source": [
    "text_file = open(\"input.txt\", \"r\")\n",
    "lines = text_file.read().split('\\n')\n",
    "\n",
    "lines = [int(i) for i in lines]"
   ]
  },
  {
   "cell_type": "code",
   "execution_count": 33,
   "metadata": {},
   "outputs": [
    {
     "name": "stdout",
     "output_type": "stream",
     "text": [
      "51590\n",
      "[]\n",
      "[17194.0]\n",
      "[17194.0, 5729.0]\n",
      "[17194.0, 5729.0, 1907.0]\n",
      "[17194.0, 5729.0, 1907.0, 633.0]\n",
      "[17194.0, 5729.0, 1907.0, 633.0, 209.0]\n",
      "[17194.0, 5729.0, 1907.0, 633.0, 209.0, 67.0]\n",
      "[17194.0, 5729.0, 1907.0, 633.0, 209.0, 67.0, 20.0]\n",
      "[17194.0, 5729.0, 1907.0, 633.0, 209.0, 67.0, 20.0, 4.0]\n",
      "53619\n",
      "101381\n",
      "81994\n",
      "139683\n",
      "53417\n",
      "124196\n",
      "127640\n",
      "99688\n",
      "116170\n",
      "127812\n",
      "95979\n",
      "73734\n",
      "105347\n",
      "130495\n",
      "89331\n",
      "116486\n",
      "65177\n",
      "143689\n",
      "130487\n",
      "57206\n",
      "74950\n",
      "141398\n",
      "100921\n",
      "114019\n",
      "137106\n",
      "137690\n",
      "70779\n",
      "61421\n",
      "121827\n",
      "122432\n",
      "108229\n",
      "65362\n",
      "70884\n",
      "56127\n",
      "83611\n",
      "126776\n",
      "91422\n",
      "51444\n",
      "52424\n",
      "69535\n",
      "110270\n",
      "115006\n",
      "97214\n",
      "85306\n",
      "77028\n",
      "102078\n",
      "82928\n",
      "101635\n",
      "91889\n",
      "58082\n",
      "72996\n",
      "74276\n",
      "135691\n",
      "113622\n",
      "118522\n",
      "56796\n",
      "115576\n",
      "138861\n",
      "63418\n",
      "64090\n",
      "131682\n",
      "93394\n",
      "61302\n",
      "98591\n",
      "67253\n",
      "69822\n",
      "121652\n",
      "133636\n",
      "106283\n",
      "83460\n",
      "53394\n",
      "65208\n",
      "66158\n",
      "113100\n",
      "52984\n",
      "126741\n",
      "75880\n",
      "124770\n",
      "54681\n",
      "69994\n",
      "138088\n",
      "83435\n",
      "75332\n",
      "114436\n",
      "141680\n",
      "68659\n",
      "111337\n",
      "56920\n",
      "74203\n",
      "96424\n",
      "86848\n",
      "69561\n",
      "53861\n",
      "118216\n",
      "79570\n",
      "136039\n",
      "120959\n",
      "122917\n",
      "122226\n"
     ]
    }
   ],
   "source": [
    "i = 0\n",
    "while i < len(lines):\n",
    "    flag = True\n",
    "    temp = []\n",
    "    t = lines[i]\n",
    "    print(t)\n",
    "    while flag == True:\n",
    "        t = np.floor(t/3) - 2\n",
    "        print(temp)\n",
    "        if t > 0:\n",
    "            temp.append(t)\n",
    "        else:\n",
    "            flag = False    \n",
    "    lines[i] = sum(temp)\n",
    "    i+=1"
   ]
  },
  {
   "cell_type": "code",
   "execution_count": 26,
   "metadata": {},
   "outputs": [
    {
     "data": {
      "text/plain": [
       "100"
      ]
     },
     "execution_count": 26,
     "metadata": {},
     "output_type": "execute_result"
    }
   ],
   "source": [
    "len(lines)"
   ]
  },
  {
   "cell_type": "code",
   "execution_count": 27,
   "metadata": {},
   "outputs": [
    {
     "data": {
      "text/plain": [
       "[25763.0,\n",
       " 0,\n",
       " 0,\n",
       " 0,\n",
       " 0,\n",
       " 0,\n",
       " 0,\n",
       " 0,\n",
       " 0,\n",
       " 0,\n",
       " 0,\n",
       " 0,\n",
       " 0,\n",
       " 0,\n",
       " 0,\n",
       " 0,\n",
       " 0,\n",
       " 0,\n",
       " 0,\n",
       " 0,\n",
       " 0,\n",
       " 0,\n",
       " 0,\n",
       " 0,\n",
       " 0,\n",
       " 0,\n",
       " 0,\n",
       " 0,\n",
       " 0,\n",
       " 0,\n",
       " 0,\n",
       " 0,\n",
       " 0,\n",
       " 0,\n",
       " 0,\n",
       " 0,\n",
       " 0,\n",
       " 0,\n",
       " 0,\n",
       " 0,\n",
       " 0,\n",
       " 0,\n",
       " 0,\n",
       " 0,\n",
       " 0,\n",
       " 0,\n",
       " 0,\n",
       " 0,\n",
       " 0,\n",
       " 0,\n",
       " 0,\n",
       " 0,\n",
       " 0,\n",
       " 0,\n",
       " 0,\n",
       " 0,\n",
       " 0,\n",
       " 0,\n",
       " 0,\n",
       " 0,\n",
       " 0,\n",
       " 0,\n",
       " 0,\n",
       " 0,\n",
       " 0,\n",
       " 0,\n",
       " 0,\n",
       " 0,\n",
       " 0,\n",
       " 0,\n",
       " 0,\n",
       " 0,\n",
       " 0,\n",
       " 0,\n",
       " 0,\n",
       " 0,\n",
       " 0,\n",
       " 0,\n",
       " 0,\n",
       " 0,\n",
       " 0,\n",
       " 0,\n",
       " 0,\n",
       " 0,\n",
       " 0,\n",
       " 0,\n",
       " 0,\n",
       " 0,\n",
       " 0,\n",
       " 0,\n",
       " 0,\n",
       " 0,\n",
       " 0,\n",
       " 0,\n",
       " 0,\n",
       " 0,\n",
       " 0,\n",
       " 0,\n",
       " 0,\n",
       " 0]"
      ]
     },
     "execution_count": 27,
     "metadata": {},
     "output_type": "execute_result"
    }
   ],
   "source": [
    "lines"
   ]
  },
  {
   "cell_type": "code",
   "execution_count": null,
   "metadata": {},
   "outputs": [],
   "source": []
  }
 ],
 "metadata": {
  "file_extension": ".py",
  "kernelspec": {
   "display_name": "Python 3",
   "language": "python",
   "name": "python3"
  },
  "language_info": {
   "codemirror_mode": {
    "name": "ipython",
    "version": 3
   },
   "file_extension": ".py",
   "mimetype": "text/x-python",
   "name": "python",
   "nbconvert_exporter": "python",
   "pygments_lexer": "ipython3",
   "version": "3.6.8"
  },
  "mimetype": "text/x-python",
  "name": "python",
  "npconvert_exporter": "python",
  "pygments_lexer": "ipython3",
  "version": 3
 },
 "nbformat": 4,
 "nbformat_minor": 2
}
