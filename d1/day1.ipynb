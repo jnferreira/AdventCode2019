{
 "cells": [
  {
   "cell_type": "code",
   "execution_count": 34,
   "metadata": {},
   "outputs": [],
   "source": [
    "text_file = open(\"input.txt\", \"r\")\n",
    "lines = text_file.read().split('\\n')\n",
    "\n",
    "lines = [int(i) for i in lines]"
   ]
  },
  {
   "cell_type": "code",
   "execution_count": 35,
   "metadata": {},
   "outputs": [
    {
     "data": {
      "text/plain": [
       "100"
      ]
     },
     "execution_count": 35,
     "metadata": {},
     "output_type": "execute_result"
    }
   ],
   "source": [
    "len(lines)"
   ]
  },
  {
   "cell_type": "code",
   "execution_count": 36,
   "metadata": {
    "scrolled": true
   },
   "outputs": [
    {
     "data": {
      "text/plain": [
       "[51590,\n",
       " 53619,\n",
       " 101381,\n",
       " 81994,\n",
       " 139683,\n",
       " 53417,\n",
       " 124196,\n",
       " 127640,\n",
       " 99688,\n",
       " 116170,\n",
       " 127812,\n",
       " 95979,\n",
       " 73734,\n",
       " 105347,\n",
       " 130495,\n",
       " 89331,\n",
       " 116486,\n",
       " 65177,\n",
       " 143689,\n",
       " 130487,\n",
       " 57206,\n",
       " 74950,\n",
       " 141398,\n",
       " 100921,\n",
       " 114019,\n",
       " 137106,\n",
       " 137690,\n",
       " 70779,\n",
       " 61421,\n",
       " 121827,\n",
       " 122432,\n",
       " 108229,\n",
       " 65362,\n",
       " 70884,\n",
       " 56127,\n",
       " 83611,\n",
       " 126776,\n",
       " 91422,\n",
       " 51444,\n",
       " 52424,\n",
       " 69535,\n",
       " 110270,\n",
       " 115006,\n",
       " 97214,\n",
       " 85306,\n",
       " 77028,\n",
       " 102078,\n",
       " 82928,\n",
       " 101635,\n",
       " 91889,\n",
       " 58082,\n",
       " 72996,\n",
       " 74276,\n",
       " 135691,\n",
       " 113622,\n",
       " 118522,\n",
       " 56796,\n",
       " 115576,\n",
       " 138861,\n",
       " 63418,\n",
       " 64090,\n",
       " 131682,\n",
       " 93394,\n",
       " 61302,\n",
       " 98591,\n",
       " 67253,\n",
       " 69822,\n",
       " 121652,\n",
       " 133636,\n",
       " 106283,\n",
       " 83460,\n",
       " 53394,\n",
       " 65208,\n",
       " 66158,\n",
       " 113100,\n",
       " 52984,\n",
       " 126741,\n",
       " 75880,\n",
       " 124770,\n",
       " 54681,\n",
       " 69994,\n",
       " 138088,\n",
       " 83435,\n",
       " 75332,\n",
       " 114436,\n",
       " 141680,\n",
       " 68659,\n",
       " 111337,\n",
       " 56920,\n",
       " 74203,\n",
       " 96424,\n",
       " 86848,\n",
       " 69561,\n",
       " 53861,\n",
       " 118216,\n",
       " 79570,\n",
       " 136039,\n",
       " 120959,\n",
       " 122917,\n",
       " 122226]"
      ]
     },
     "execution_count": 36,
     "metadata": {},
     "output_type": "execute_result"
    }
   ],
   "source": [
    "lines"
   ]
  },
  {
   "cell_type": "code",
   "execution_count": 37,
   "metadata": {
    "scrolled": true
   },
   "outputs": [
    {
     "data": {
      "text/plain": [
       "[17195,\n",
       " 17871,\n",
       " 33792,\n",
       " 27329,\n",
       " 46559,\n",
       " 17804,\n",
       " 41397,\n",
       " 42545,\n",
       " 33227,\n",
       " 38721,\n",
       " 42602,\n",
       " 31991,\n",
       " 24576,\n",
       " 35114,\n",
       " 43496,\n",
       " 29775,\n",
       " 38827,\n",
       " 21724,\n",
       " 47894,\n",
       " 43494,\n",
       " 19067,\n",
       " 24981,\n",
       " 47131,\n",
       " 33638,\n",
       " 38004,\n",
       " 45700,\n",
       " 45895,\n",
       " 23591,\n",
       " 20472,\n",
       " 40607,\n",
       " 40809,\n",
       " 36074,\n",
       " 21785,\n",
       " 23626,\n",
       " 18707,\n",
       " 27868,\n",
       " 42257,\n",
       " 30472,\n",
       " 17146,\n",
       " 17473,\n",
       " 23176,\n",
       " 36755,\n",
       " 38333,\n",
       " 32403,\n",
       " 28433,\n",
       " 25674,\n",
       " 34024,\n",
       " 27641,\n",
       " 33876,\n",
       " 30628,\n",
       " 19359,\n",
       " 24330,\n",
       " 24757,\n",
       " 45228,\n",
       " 37872,\n",
       " 39505,\n",
       " 18930,\n",
       " 38523,\n",
       " 46285,\n",
       " 21137,\n",
       " 21361,\n",
       " 43892,\n",
       " 31129,\n",
       " 20432,\n",
       " 32862,\n",
       " 22416,\n",
       " 23272,\n",
       " 40549,\n",
       " 44543,\n",
       " 35426,\n",
       " 27818,\n",
       " 17796,\n",
       " 21734,\n",
       " 22051,\n",
       " 37698,\n",
       " 17659,\n",
       " 42245,\n",
       " 25291,\n",
       " 41588,\n",
       " 18225,\n",
       " 23329,\n",
       " 46027,\n",
       " 27810,\n",
       " 25109,\n",
       " 38143,\n",
       " 47225,\n",
       " 22884,\n",
       " 37110,\n",
       " 18971,\n",
       " 24732,\n",
       " 32139,\n",
       " 28947,\n",
       " 23185,\n",
       " 17952,\n",
       " 39403,\n",
       " 26521,\n",
       " 45344,\n",
       " 40318,\n",
       " 40970,\n",
       " 40740]"
      ]
     },
     "execution_count": 37,
     "metadata": {},
     "output_type": "execute_result"
    }
   ],
   "source": [
    "for index, line in enumerate(lines):\n",
    "    lines[index] = round(line/3) - 2\n",
    "lines"
   ]
  },
  {
   "cell_type": "code",
   "execution_count": 41,
   "metadata": {},
   "outputs": [
    {
     "data": {
      "text/plain": [
       "654"
      ]
     },
     "execution_count": 41,
     "metadata": {},
     "output_type": "execute_result"
    }
   ],
   "source": [
    "round(1969/3)-2"
   ]
  },
  {
   "cell_type": "code",
   "execution_count": 39,
   "metadata": {},
   "outputs": [
    {
     "data": {
      "text/plain": [
       "100"
      ]
     },
     "execution_count": 39,
     "metadata": {},
     "output_type": "execute_result"
    }
   ],
   "source": [
    "len(lines)"
   ]
  },
  {
   "cell_type": "code",
   "execution_count": 40,
   "metadata": {},
   "outputs": [
    {
     "data": {
      "text/plain": [
       "3152951"
      ]
     },
     "execution_count": 40,
     "metadata": {},
     "output_type": "execute_result"
    }
   ],
   "source": [
    "sum(lines)"
   ]
  }
 ],
 "metadata": {
  "file_extension": ".py",
  "kernelspec": {
   "display_name": "Python 3",
   "language": "python",
   "name": "python3"
  },
  "language_info": {
   "codemirror_mode": {
    "name": "ipython",
    "version": 3
   },
   "file_extension": ".py",
   "mimetype": "text/x-python",
   "name": "python",
   "nbconvert_exporter": "python",
   "pygments_lexer": "ipython3",
   "version": "3.6.8"
  },
  "mimetype": "text/x-python",
  "name": "python",
  "npconvert_exporter": "python",
  "pygments_lexer": "ipython3",
  "version": 3
 },
 "nbformat": 4,
 "nbformat_minor": 2
}
